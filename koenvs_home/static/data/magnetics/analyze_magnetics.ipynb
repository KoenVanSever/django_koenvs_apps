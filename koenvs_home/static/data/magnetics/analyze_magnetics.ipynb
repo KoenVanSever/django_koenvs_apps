{
 "metadata": {
  "language_info": {
   "codemirror_mode": {
    "name": "ipython",
    "version": 3
   },
   "file_extension": ".py",
   "mimetype": "text/x-python",
   "name": "python",
   "nbconvert_exporter": "python",
   "pygments_lexer": "ipython3",
   "version": "3.8.3-final"
  },
  "orig_nbformat": 2,
  "kernelspec": {
   "name": "Python 3.8.3 64-bit",
   "display_name": "Python 3.8.3 64-bit",
   "metadata": {
    "interpreter": {
     "hash": "37618f6b4f68339fb9512bfd846549ef077835d53aa63b2380f29546bc65a216"
    }
   }
  }
 },
 "nbformat": 4,
 "nbformat_minor": 2,
 "cells": [
  {
   "cell_type": "code",
   "execution_count": null,
   "metadata": {},
   "outputs": [],
   "source": [
    "import pandas as pd\n",
    "import matplotlib.pyplot as plt\n",
    "import matplotlib as mpl"
   ]
  },
  {
   "cell_type": "code",
   "execution_count": null,
   "metadata": {},
   "outputs": [],
   "source": [
    "df = pd.read_excel('Magnetics-Curve-Fit-Equation-Tool-2020.xlsx', sheet_name=\"Magnetics Curve Fit Equations\", skiprows=7)"
   ]
  },
  {
   "cell_type": "code",
   "execution_count": null,
   "metadata": {},
   "outputs": [],
   "source": [
    "mpl.rcParams[\"figure.figsize\"] = 10,8\n",
    "mpl.rcParams[\"axes.grid\"] = True"
   ]
  },
  {
   "cell_type": "code",
   "execution_count": null,
   "metadata": {},
   "outputs": [],
   "source": [
    "def calc_rel_perm_ifo_dcb_oersted(oersted, factors):\n",
    "    return (1/(factors[\"a\"]+factors[\"b\"]*(oersted**factors[\"c\"])))\n",
    "def calc_core_loss_density(flux_density, sw_freq, factors):\n",
    "    return (factors[\"a\"] * (flux_density**factors[\"b\"]) * (sw_freq**factors[\"c\"]))\n",
    "def calc_magnetization(oersted, factors):\n",
    "    return ((factors[\"a\"] + factors[\"b\"]*oersted + factors[\"c\"]*oersted**2) / (1 + factors[\"d\"]*oersted + factors[\"e\"]*oersted**2))**factors[\"x\"]\n",
    "def match_material_perm(df, mat_col, perm_col, mat, perm):\n",
    "    filtered = df[(df[mat_col] == mat) & (df[perm_col] == perm)] # AND logic for two\n",
    "    return filtered.drop([mat_col, perm_col], axis=1)\n",
    "def create_df_from_named_cols(df, cols, threshold, rename_dict={}):\n",
    "    dropped = df.dropna(axis=1, how=\"all\")\n",
    "    return dropped[cols].dropna(axis=0, thresh=threshold).fillna(method=\"ffill\").rename(columns=rename_dict)"
   ]
  },
  {
   "cell_type": "code",
   "execution_count": null,
   "metadata": {},
   "outputs": [],
   "source": [
    "perm_vs_dc_bias = create_df_from_named_cols(df, [\"Material:\", \"Initial Permeability\", \"a\", \"b\", \"c\"], 3, rename_dict={\"Material:\": \"Material\"})\n",
    "rename_core_loss = {\"Material:.1\": \"Material\", \"Initial Permeability.1\": \"Initial Permeability\", \"a.1\": \"a\", \"b.1\": \"b\", \"c.1\": \"c\"}\n",
    "core_loss_dens_vs_flux_dens_sw_freq = create_df_from_named_cols(df, [\"Material:.1\", \"Initial Permeability.1\", \"a.1\", \"b.1\", \"c.1\"], 3, rename_dict=rename_core_loss)\n",
    "rename_magnetization = {\"a.2\": \"a\", \"b.2\": \"b\", \"c.2\": \"c\"}\n",
    "magnetization = create_df_from_named_cols(df, [\"Material\", \"Permeability\", \"a.2\", \"b.2\", \"c.2\", \"d\", \"e\", \"x\"], 5, rename_dict=rename_magnetization)"
   ]
  },
  {
   "source": [
    "oer = list(range(100))\n",
    "factors = match_material_perm(perm_vs_dc_bias, \"Material\", \"Initial Permeability\", \"MPP\", 160)\n",
    "factors2 = match_material_perm(perm_vs_dc_bias, \"Material\", \"Initial Permeability\", \"MPP\", 200)\n",
    "plt.plot(oer, [calc_rel_perm_ifo_dcb_oersted(x, factors) for x in oer])\n",
    "plt.plot(oer, [calc_rel_perm_ifo_dcb_oersted(x, factors2) for x in oer])\n",
    "plt.show(block = True)\n",
    "perm_vs_dc_bias.to_pickle(\"mu_perc_vs_H.pkl\")"
   ],
   "cell_type": "code",
   "metadata": {},
   "execution_count": null,
   "outputs": []
  },
  {
   "source": [
    "flux_dens = list(map(lambda x: x/500, range(100)))\n",
    "print(flux_dens)\n",
    "sw_freq = 100\n",
    "factors = match_material_perm(core_loss_dens_vs_flux_dens_sw_freq, \"Material\", \"Initial Permeability\", \"MPP\", 160)\n",
    "factors2 = match_material_perm(core_loss_dens_vs_flux_dens_sw_freq, \"Material\", \"Initial Permeability\", \"MPP\", 200)\n",
    "plt.plot(flux_dens, [calc_core_loss_density(x, sw_freq, factors) for x in flux_dens])\n",
    "plt.plot(flux_dens, [calc_core_loss_density(x, sw_freq, factors2) for x in flux_dens])\n",
    "plt.show(block = True)\n",
    "core_loss_dens_vs_flux_dens_sw_freq.to_pickle(\"Pc_vs_B-fsw.pkl\")"
   ],
   "cell_type": "code",
   "metadata": {},
   "execution_count": null,
   "outputs": []
  },
  {
   "cell_type": "code",
   "execution_count": null,
   "metadata": {},
   "outputs": [],
   "source": [
    "oer = list(range(100))\n",
    "factors = match_material_perm(magnetization, \"Material\", \"Permeability\", \"MPP\", 160)\n",
    "factors2 = match_material_perm(magnetization, \"Material\", \"Permeability\", \"MPP\", 200)\n",
    "plt.plot(oer, [calc_magnetization(x, factors) for x in oer])\n",
    "plt.plot(oer, [calc_magnetization(x, factors2) for x in oer])\n",
    "plt.show(block = True)\n",
    "magnetization.to_pickle(\"B_vs_H.pkl\")"
   ]
  }
 ]
}