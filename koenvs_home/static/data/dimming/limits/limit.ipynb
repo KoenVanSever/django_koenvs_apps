{
 "metadata": {
  "language_info": {
   "codemirror_mode": {
    "name": "ipython",
    "version": 3
   },
   "file_extension": ".py",
   "mimetype": "text/x-python",
   "name": "python",
   "nbconvert_exporter": "python",
   "pygments_lexer": "ipython3",
   "version": "3.8.3-final"
  },
  "orig_nbformat": 2,
  "kernelspec": {
   "name": "Python 3.8.3 64-bit",
   "display_name": "Python 3.8.3 64-bit",
   "metadata": {
    "interpreter": {
     "hash": "37618f6b4f68339fb9512bfd846549ef077835d53aa63b2380f29546bc65a216"
    }
   }
  }
 },
 "nbformat": 4,
 "nbformat_minor": 2,
 "cells": [
  {
   "cell_type": "code",
   "execution_count": null,
   "metadata": {},
   "outputs": [],
   "source": [
    "import pandas as pd"
   ]
  },
  {
   "cell_type": "code",
   "execution_count": null,
   "metadata": {},
   "outputs": [],
   "source": [
    "temp = pd.read_csv(\"limit_white.txt\", sep=\"\\t\")\n",
    "white_min = temp[[\"Input.\", \"MIN.\"]].rename({\"Input.\": \"input\", \"MIN.\": \"output\"}, axis = 1)\n",
    "white_min.to_csv(\"LOWER LIMIT WHITE.csv\", index=False)\n",
    "white_max = temp[[\"Input.\", \"MAX.\"]].rename({\"Input.\": \"input\", \"MAX.\": \"output\"}, axis = 1)\n",
    "white_max.to_csv(\"UPPER LIMIT WHITE.csv\", index=False)"
   ]
  },
  {
   "cell_type": "code",
   "execution_count": null,
   "metadata": {},
   "outputs": [],
   "source": [
    "temp = pd.read_csv(\"limit_color.txt\", sep=\"\\t\")\n",
    "white_min = temp[[\"Input.\", \"MIN.\"]].rename({\"Input.\": \"input\", \"MIN.\": \"output\"}, axis = 1)\n",
    "white_min.to_csv(\"LOWER LIMIT COLOR.csv\", index=False)\n",
    "white_max = temp[[\"Input.\", \"MAX.\"]].rename({\"Input.\": \"input\", \"MAX.\": \"output\"}, axis = 1)\n",
    "white_max.to_csv(\"UPPER LIMIT COLOR.csv\", index=False)"
   ]
  }
 ]
}